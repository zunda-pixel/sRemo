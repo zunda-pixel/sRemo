{
  "nbformat": 4,
  "nbformat_minor": 0,
  "metadata": {
    "colab": {
      "name": "example.ipynb",
      "provenance": [],
      "collapsed_sections": [],
      "authorship_tag": "ABX9TyP5pCBo+m7gQhVObGHrcyKS",
      "include_colab_link": true
    },
    "kernelspec": {
      "name": "python3",
      "display_name": "Python 3"
    }
  },
  "cells": [
    {
      "cell_type": "markdown",
      "metadata": {
        "id": "view-in-github",
        "colab_type": "text"
      },
      "source": [
        "<a href=\"https://colab.research.google.com/github/zunda-pixel/sRemo/blob/main/example.ipynb\" target=\"_parent\"><img src=\"https://colab.research.google.com/assets/colab-badge.svg\" alt=\"Open In Colab\"/></a>"
      ]
    },
    {
      "cell_type": "code",
      "metadata": {
        "colab": {
          "base_uri": "https://localhost:8080/"
        },
        "id": "8_JEF3mK6Iu1",
        "outputId": "b17ab317-3caf-49fc-b5a0-f51425c39c11"
      },
      "source": [
        "!pip install -i https://test.pypi.org/simple/ sRemoAPI==1.0.9"
      ],
      "execution_count": 1,
      "outputs": [
        {
          "output_type": "stream",
          "text": [
            "Looking in indexes: https://test.pypi.org/simple/\n",
            "Collecting sRemoAPI==1.0.9\n",
            "  Downloading https://test-files.pythonhosted.org/packages/b6/b3/5c0d70f49d5559e75a4a8be487e628159ead109010a77cfda85058de6736/sRemoAPI-1.0.9-py3-none-any.whl\n",
            "Installing collected packages: sRemoAPI\n",
            "Successfully installed sRemoAPI-1.0.9\n"
          ],
          "name": "stdout"
        }
      ]
    },
    {
      "cell_type": "code",
      "metadata": {
        "id": "4iKQCkmz6LsW"
      },
      "source": [
        "from sRemo import sRemoAPI\n",
        "\n",
        "access_token = \"\"\n",
        "device_identifier = \"\"\n",
        "\n",
        "api = sRemoAPI(access_token, device_identifier)"
      ],
      "execution_count": 4,
      "outputs": []
    },
    {
      "cell_type": "code",
      "metadata": {
        "id": "VtXjnOE_6VZw"
      },
      "source": [
        "def 電気を消す():\n",
        "  appliance_number = \"3\"\n",
        "  appliance_type = \"light\"\n",
        "  signal = \"2\"\n",
        "  api.send_signal(appliance_number, appliance_type, signal)"
      ],
      "execution_count": 30,
      "outputs": []
    },
    {
      "cell_type": "code",
      "metadata": {
        "id": "oGdEzVSR8nfd"
      },
      "source": [
        "def 電気をつける():\n",
        "  appliance_number = \"3\"\n",
        "  appliance_type = \"light\"\n",
        "  signal = \"3\"\n",
        "  api.send_signal(appliance_number, appliance_type, signal)"
      ],
      "execution_count": 29,
      "outputs": []
    },
    {
      "cell_type": "code",
      "metadata": {
        "id": "TUuqWesD8sAh"
      },
      "source": [
        "電気をつける()"
      ],
      "execution_count": 25,
      "outputs": []
    },
    {
      "cell_type": "code",
      "metadata": {
        "id": "cF2COqYc857f"
      },
      "source": [
        "電気を消す()"
      ],
      "execution_count": 31,
      "outputs": []
    }
  ]
}