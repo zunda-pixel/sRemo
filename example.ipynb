{
  "nbformat": 4,
  "nbformat_minor": 0,
  "metadata": {
    "colab": {
      "name": "example.ipynb",
      "provenance": [],
      "collapsed_sections": [],
      "authorship_tag": "ABX9TyP5pCBo+m7gQhVObGHrcyKS",
      "include_colab_link": true
    },
    "kernelspec": {
      "name": "python3",
      "display_name": "Python 3.8.2 64-bit",
      "metadata": {
        "interpreter": {
          "hash": "5edc29c2ed010d6458d71a83433b383a96a8cbd3efe8531bc90c4b8a5b8bcec9"
        }
      }
    }
  },
  "cells": [
    {
      "cell_type": "markdown",
      "metadata": {
        "id": "view-in-github",
        "colab_type": "text"
      },
      "source": [
        "<a href=\"https://colab.research.google.com/github/zunda-pixel/sRemo/blob/main/example.ipynb\" target=\"_parent\"><img src=\"https://colab.research.google.com/assets/colab-badge.svg\" alt=\"Open In Colab\"/></a>"
      ]
    },
    {
      "cell_type": "code",
      "metadata": {
        "colab": {
          "base_uri": "https://localhost:8080/"
        },
        "id": "8_JEF3mK6Iu1",
        "outputId": "b17ab317-3caf-49fc-b5a0-f51425c39c11"
      },
      "source": [
        "!pip3 install sRemoAPI"
      ],
      "execution_count": 2,
      "outputs": [
        {
          "output_type": "stream",
          "name": "stdout",
          "text": [
            "WARNING: pip is being invoked by an old script wrapper. This will fail in a future version of pip.\n",
            "Please see https://github.com/pypa/pip/issues/5599 for advice on fixing the underlying issue.\n",
            "To avoid this problem you can invoke Python with '-m pip' instead of running pip directly.\n",
            "Defaulting to user installation because normal site-packages is not writeable\n",
            "Collecting sRemoAPI\n",
            "  Downloading sRemoAPI-1.0.0-py3-none-any.whl (3.0 kB)\n",
            "Installing collected packages: sRemoAPI\n",
            "Successfully installed sRemoAPI-1.0.0\n"
          ]
        }
      ]
    },
    {
      "cell_type": "code",
      "execution_count": 3,
      "metadata": {},
      "outputs": [],
      "source": [
        "import os\n",
        "access_token = os.environ[\"sRemo_Access_Token\"]\n",
        "device_identifier = os.environ[\"sRemo_Device_Identifier\"]"
      ]
    },
    {
      "cell_type": "code",
      "metadata": {
        "id": "4iKQCkmz6LsW"
      },
      "source": [
        "from sRemo import sRemoAPI\n",
        "api = sRemoAPI(access_token, device_identifier)"
      ],
      "execution_count": 2,
      "outputs": []
    },
    {
      "cell_type": "code",
      "metadata": {
        "id": "VtXjnOE_6VZw"
      },
      "source": [
        "def 電気を消す():\n",
        "  appliance_number = \"3\"\n",
        "  appliance_type = \"light\"\n",
        "  signal = \"2\"\n",
        "  api.send_signal(appliance_number, appliance_type, signal)"
      ],
      "execution_count": 4,
      "outputs": []
    },
    {
      "cell_type": "code",
      "metadata": {
        "id": "oGdEzVSR8nfd"
      },
      "source": [
        "def 電気をつける():\n",
        "  appliance_number = \"3\"\n",
        "  appliance_type = \"light\"\n",
        "  signal = \"3\"\n",
        "  api.send_signal(appliance_number, appliance_type, signal)"
      ],
      "execution_count": 5,
      "outputs": []
    },
    {
      "cell_type": "code",
      "metadata": {
        "id": "TUuqWesD8sAh"
      },
      "source": [
        "電気をつける()"
      ],
      "execution_count": 6,
      "outputs": []
    },
    {
      "cell_type": "code",
      "metadata": {
        "id": "cF2COqYc857f"
      },
      "source": [
        "電気を消す()"
      ],
      "execution_count": 9,
      "outputs": []
    },
    {
      "cell_type": "code",
      "execution_count": null,
      "metadata": {},
      "outputs": [],
      "source": []
    }
  ]
}